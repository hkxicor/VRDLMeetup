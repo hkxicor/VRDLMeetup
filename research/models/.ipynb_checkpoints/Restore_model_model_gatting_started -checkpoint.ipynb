{
 "cells": [
  {
   "cell_type": "markdown",
   "metadata": {},
   "source": [
    "# Save model"
   ]
  },
  {
   "cell_type": "code",
   "execution_count": 6,
   "metadata": {},
   "outputs": [
    {
     "data": {
      "text/plain": [
       "'/home/cogknit/project/VRDLMeetup/research/models/trained_models/demo/my_test_model'"
      ]
     },
     "execution_count": 6,
     "metadata": {},
     "output_type": "execute_result"
    }
   ],
   "source": [
    "import os\n",
    "import tensorflow as tf\n",
    "w1 = tf.Variable(tf.random_normal(shape=[2]), name='w1')\n",
    "w2 = tf.Variable(tf.random_normal(shape=[5]), name='w2')\n",
    "saver = tf.train.Saver()\n",
    "sess = tf.Session()\n",
    "model_name=os.path.join(os.getcwd(),'trained_models/demo/my_test_model')\n",
    "sess.run(tf.global_variables_initializer())\n",
    "saver.save(sess,model_name)\n",
    "saver.save(sess, 'my-model', global_step=step,write_meta_graph=False)\n",
    "\n",
    "#saves a model every 2 hours and maximum 4 latest models are saved.\n",
    "saver = tf.train.Saver(max_to_keep=4, keep_checkpoint_every_n_hours=2)\n",
    " \n",
    "# This will save following files in Tensorflow v >= 0.11\n",
    "# my_test_model.data-00000-of-00001\n",
    "# my_test_model.index\n",
    "# my_test_model.meta\n",
    "# checkpoint"
   ]
  },
  {
   "cell_type": "markdown",
   "metadata": {},
   "source": [
    "# Save model with custum vaiables"
   ]
  },
  {
   "cell_type": "code",
   "execution_count": null,
   "metadata": {},
   "outputs": [],
   "source": [
    "import tensorflow as tf\n",
    "w1 = tf.Variable(tf.random_normal(shape=[2]), name='w1')\n",
    "w2 = tf.Variable(tf.random_normal(shape=[5]), name='w2')\n",
    "saver = tf.train.Saver([w1,w2])\n",
    "model_name=os.path.join(os.getcwd(),'trained_models/demo/my_test_model')\n",
    "\n",
    "with  tf.Session() assess\n",
    "    sess.run(tf.global_variables_initializer())\n",
    "    saver.save(sess, 'my_test_model',global_step=1)"
   ]
  }
 ],
 "metadata": {
  "kernelspec": {
   "display_name": "Python3 (cogknitEnv)",
   "language": "python",
   "name": "cogknitenv"
  },
  "language_info": {
   "codemirror_mode": {
    "name": "ipython",
    "version": 3
   },
   "file_extension": ".py",
   "mimetype": "text/x-python",
   "name": "python",
   "nbconvert_exporter": "python",
   "pygments_lexer": "ipython3",
   "version": "3.5.2"
  }
 },
 "nbformat": 4,
 "nbformat_minor": 2
}
