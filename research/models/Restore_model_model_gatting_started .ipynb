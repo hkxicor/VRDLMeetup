{
 "cells": [
  {
   "cell_type": "markdown",
   "metadata": {},
   "source": [
    "# Save model"
   ]
  },
  {
   "cell_type": "code",
   "execution_count": 13,
   "metadata": {},
   "outputs": [],
   "source": [
    "import os\n",
    "import tensorflow as tf\n",
    "w1 = tf.Variable(tf.random_normal(shape=[2]), name='w1')\n",
    "w2 = tf.Variable(tf.random_normal(shape=[5]), name='w2')\n",
    "saver = tf.train.Saver()\n",
    "sess = tf.Session()\n",
    "model_name=os.path.join(os.getcwd(),'trained_models/demo/my_test_model')\n",
    "step=1\n",
    "\n",
    "with  tf.Session() as sess:\n",
    "    sess.run(tf.global_variables_initializer())\n",
    "    saver.save(sess,model_name)\n",
    "    #saver.save(sess, model_name, global_step=step,write_meta_graph=False)\n",
    "\n",
    "    #saves a model every 2 hours and maximum 4 latest models are saved.\n",
    "    #saver = tf.train.Saver(max_to_keep=4, keep_checkpoint_every_n_hours=2)\n",
    " \n",
    "# This will save following files in Tensorflow v >= 0.11\n",
    "# my_test_model.data-00000-of-00001\n",
    "# my_test_model.index\n",
    "# my_test_model.meta\n",
    "# checkpoint"
   ]
  },
  {
   "cell_type": "markdown",
   "metadata": {},
   "source": [
    "# Save model with custum vaiables"
   ]
  },
  {
   "cell_type": "code",
   "execution_count": 9,
   "metadata": {},
   "outputs": [],
   "source": [
    "import tensorflow as tf\n",
    "w1 = tf.Variable(tf.random_normal(shape=[2]), name='w1')\n",
    "w2 = tf.Variable(tf.random_normal(shape=[5]), name='w2')\n",
    "saver = tf.train.Saver([w1,w2])\n",
    "model_name=os.path.join(os.getcwd(),'trained_models/demo/my_test_model')\n",
    "\n",
    "with  tf.Session() as sess:\n",
    "    sess.run(tf.global_variables_initializer())\n",
    "    saver.save(sess, model_name,global_step=1)"
   ]
  },
  {
   "cell_type": "code",
   "execution_count": 14,
   "metadata": {},
   "outputs": [
    {
     "name": "stdout",
     "output_type": "stream",
     "text": [
      "Session 1\n",
      "[ 0.40387869]\n",
      "[ 0.12635505]\n",
      "[-1.28335786]\n",
      "[-0.16627391]\n",
      "Session 2\n",
      "[ 0.67171896]\n",
      "[ 0.83551168]\n",
      "[-0.18205996]\n",
      "[ 0.64619124]\n"
     ]
    }
   ],
   "source": [
    "a = tf.random_uniform([1])\n",
    "b = tf.random_normal([1])\n",
    "\n",
    "print(\"Session 1\")\n",
    "with tf.Session() as sess1:\n",
    "  print(sess1.run(a))  # generates 'A1'\n",
    "  print(sess1.run(a))  # generates 'A2'\n",
    "  print(sess1.run(b))  # generates 'B1'\n",
    "  print(sess1.run(b))  # generates 'B2'\n",
    "\n",
    "print(\"Session 2\")\n",
    "with tf.Session() as sess2:\n",
    "  print(sess2.run(a))  # generates 'A3'\n",
    "  print(sess2.run(a))  # generates 'A4'\n",
    "  print(sess2.run(b))  # generates 'B3'\n",
    "  print(sess2.run(b))  # generates 'B4'\n"
   ]
  },
  {
   "cell_type": "code",
   "execution_count": 19,
   "metadata": {},
   "outputs": [
    {
     "name": "stdout",
     "output_type": "stream",
     "text": [
      "Session 1\n",
      "[ 0.10086262]\n",
      "[ 0.47289479]\n",
      "[-0.85811085]\n",
      "[-0.20793143]\n",
      "Session 2\n",
      "[ 0.10086262]\n",
      "[ 0.47289479]\n",
      "[-0.85811085]\n",
      "[-0.20793143]\n"
     ]
    }
   ],
   "source": [
    "a = tf.random_uniform([1], seed=0)\n",
    "b = tf.random_normal([1],seed=2)\n",
    "\n",
    "# Repeatedly running this block with the same graph will generate the same\n",
    "# sequence of values for 'a', but different sequences of values for 'b'.\n",
    "print(\"Session 1\")\n",
    "with tf.Session() as sess1:\n",
    "  print(sess1.run(a))  # generates 'A1'\n",
    "  print(sess1.run(a))  # generates 'A2'\n",
    "  print(sess1.run(b))  # generates 'B1'\n",
    "  print(sess1.run(b))  # generates 'B2'\n",
    "\n",
    "print(\"Session 2\")\n",
    "with tf.Session() as sess2:\n",
    "  print(sess2.run(a))  # generates 'A1'\n",
    "  print(sess2.run(a))  # generates 'A2'\n",
    "  print(sess2.run(b))  # generates 'B3'\n",
    "  print(sess2.run(b))  # generates 'B4'\n"
   ]
  },
  {
   "cell_type": "code",
   "execution_count": null,
   "metadata": {},
   "outputs": [],
   "source": []
  }
 ],
 "metadata": {
  "kernelspec": {
   "display_name": "Python3 (cogknitEnv)",
   "language": "python",
   "name": "cogknitenv"
  },
  "language_info": {
   "codemirror_mode": {
    "name": "ipython",
    "version": 3
   },
   "file_extension": ".py",
   "mimetype": "text/x-python",
   "name": "python",
   "nbconvert_exporter": "python",
   "pygments_lexer": "ipython3",
   "version": "3.5.2"
  }
 },
 "nbformat": 4,
 "nbformat_minor": 2
}
