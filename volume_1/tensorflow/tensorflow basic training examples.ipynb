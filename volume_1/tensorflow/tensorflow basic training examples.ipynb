{
 "cells": [
  {
   "cell_type": "markdown",
   "metadata": {},
   "source": [
    "# TensorFlow Session Test Module"
   ]
  },
  {
   "cell_type": "code",
   "execution_count": 5,
   "metadata": {},
   "outputs": [
    {
     "name": "stdout",
     "output_type": "stream",
     "text": [
      "1.1.0\n",
      "4.0\n"
     ]
    }
   ],
   "source": [
    "import tensorflow as  tf\n",
    "print(tf.__version__)\n",
    "a=tf.Variable(1.0)\n",
    "b=a+3\n",
    "with tf.Session() as sess:\n",
    "    sess.run(tf.global_variables_initializer())\n",
    "    print(sess.run(b))\n",
    "graph = tf.get_default_graph()\n",
    "#for op in graph.get_operations():\n",
    "#    print(op.name)"
   ]
  },
  {
   "cell_type": "markdown",
   "metadata": {},
   "source": [
    "# Tensor Flow linear regression example"
   ]
  },
  {
   "cell_type": "code",
   "execution_count": 5,
   "metadata": {},
   "outputs": [
    {
     "name": "stdout",
     "output_type": "stream",
     "text": [
      "W: [-0.9999969] b: [ 0.99999082] loss: 5.69997e-11\n"
     ]
    }
   ],
   "source": [
    "import numpy as np\n",
    "import tensorflow as tf\n",
    "\n",
    "# Model parameters\n",
    "W = tf.Variable([.3], tf.float32)\n",
    "b = tf.Variable([-.3], tf.float32)\n",
    "\n",
    "# Model input and output\n",
    "x = tf.placeholder(tf.float32)\n",
    "linear_model = W * x + b\n",
    "y = tf.placeholder(tf.float32)\n",
    "\n",
    "# loss\n",
    "loss = tf.reduce_sum(tf.square(linear_model - y)) # sum of the squares\n",
    "\n",
    "\n",
    "# optimizer\n",
    "optimizer = tf.train.GradientDescentOptimizer(0.01)\n",
    "train = optimizer.minimize(loss)\n",
    "\n",
    "# training data\n",
    "x_train = [1,2,3,4]\n",
    "y_train = [0,-1,-2,-3]\n",
    "\n",
    "# training loop\n",
    "init = tf.global_variables_initializer()\n",
    "\n",
    "# sess = tf.Session()\n",
    "with tf.Session() as sess:   \n",
    "    sess.run(init) # reset values to wrong\n",
    "    for i in range(1000):\n",
    "        sess.run(train, {x:x_train, y:y_train})\n",
    "    # evaluate training accuracy\n",
    "    curr_W, curr_b, curr_loss  = sess.run([W, b, loss], {x:x_train, y:y_train})\n",
    "    print(\"W: %s b: %s loss: %s\"%(curr_W, curr_b, curr_loss))\n",
    "    \n",
    "    \n",
    "graph = tf.get_default_graph()\n",
    "for op in graph.get_operations():\n",
    "    #print op\n",
    "    pass\n"
   ]
  },
  {
   "cell_type": "markdown",
   "metadata": {},
   "source": [
    "# MNIST hand writing recognition \""
   ]
  },
  {
   "cell_type": "code",
   "execution_count": 6,
   "metadata": {},
   "outputs": [
    {
     "name": "stdout",
     "output_type": "stream",
     "text": [
      "Extracting MNIST_data/train-images-idx3-ubyte.gz\n",
      "Extracting MNIST_data/train-labels-idx1-ubyte.gz\n",
      "Extracting MNIST_data/t10k-images-idx3-ubyte.gz\n",
      "Extracting MNIST_data/t10k-labels-idx1-ubyte.gz\n",
      "('Model Accuracy: ', 0.9005)\n"
     ]
    }
   ],
   "source": [
    "import tensorflow as tf\n",
    "\n",
    "# import mnist dataset\n",
    "from tensorflow.examples.tutorials.mnist import input_data\n",
    "mnist = input_data.read_data_sets(\"MNIST_data/\", one_hot=True)\n",
    "\n",
    "# placeholder for input traing data\n",
    "x=tf.placeholder(tf.float32,[None,784])\n",
    "# placeholder for input traing label\n",
    "y_ = tf.placeholder(tf.float32, [None, 10])\n",
    "\n",
    "# creaating variable for weight and bias\n",
    "W = tf.Variable(tf.zeros([784, 10]))\n",
    "b = tf.Variable(tf.zeros([10]))\n",
    "\n",
    "\n",
    "#activation function (Softmax)\n",
    "y = tf.nn.softmax(tf.matmul(x, W) + b)\n",
    "\n",
    "# cross_entropy or loss or cost \n",
    "cross_entropy = tf.reduce_mean(-tf.reduce_sum(y_ * tf.log(y), reduction_indices=[1]))\n",
    "\n",
    "# minimize cost or cross_entropy \n",
    "train_step = tf.train.GradientDescentOptimizer(0.05).minimize(cross_entropy)\n",
    "\n",
    "\n",
    "####### training ####################\n",
    "#Start interactiveSession\n",
    "sess = tf.InteractiveSession()\n",
    "\n",
    "# initialization all variable \n",
    "tf.global_variables_initializer().run()\n",
    "\n",
    "# updating weight in traing process\n",
    "for _ in range(1000):\n",
    "    batch_xs, batch_ys = mnist.train.next_batch(100)\n",
    "    sess.run(train_step, feed_dict={x: batch_xs, y_: batch_ys})\n",
    "\n",
    "### find model accuracy and test tour mnist test dataset\n",
    "correct_prediction = tf.equal(tf.argmax(y,1), tf.argmax(y_,1))\n",
    "accuracy = tf.reduce_mean(tf.cast(correct_prediction, tf.float32))\n",
    "\n",
    "print(\"Model Accuracy: \",sess.run(accuracy, feed_dict={x: mnist.test.images, y_: mnist.test.labels}))\n",
    "\n",
    "sess.close()"
   ]
  },
  {
   "cell_type": "markdown",
   "metadata": {},
   "source": [
    "# TensorFlow graph"
   ]
  },
  {
   "cell_type": "code",
   "execution_count": 3,
   "metadata": {},
   "outputs": [
    {
     "name": "stdout",
     "output_type": "stream",
     "text": [
      "35\n",
      "[1 2 1]\n"
     ]
    },
    {
     "data": {
      "text/plain": [
       "[<tf.Operation 't/initial_value' type=Const>,\n",
       " <tf.Operation 't' type=VariableV2>,\n",
       " <tf.Operation 't/Assign' type=Assign>,\n",
       " <tf.Operation 't/read' type=Identity>,\n",
       " <tf.Operation 'init' type=NoOp>,\n",
       " <tf.Operation 'Rank' type=Const>,\n",
       " <tf.Operation 'range/start' type=Const>,\n",
       " <tf.Operation 'range/delta' type=Const>,\n",
       " <tf.Operation 'range' type=Range>,\n",
       " <tf.Operation 'Mean' type=Mean>,\n",
       " <tf.Operation 'b/initial_value' type=Const>,\n",
       " <tf.Operation 'b' type=VariableV2>,\n",
       " <tf.Operation 'b/Assign' type=Assign>,\n",
       " <tf.Operation 'b/read' type=Identity>,\n",
       " <tf.Operation 'init_1' type=NoOp>,\n",
       " <tf.Operation 'ArgMax/dimension' type=Const>,\n",
       " <tf.Operation 'ArgMax' type=ArgMax>,\n",
       " <tf.Operation 't_1/initial_value' type=Const>,\n",
       " <tf.Operation 't_1' type=VariableV2>,\n",
       " <tf.Operation 't_1/Assign' type=Assign>,\n",
       " <tf.Operation 't_1/read' type=Identity>,\n",
       " <tf.Operation 'init_2' type=NoOp>,\n",
       " <tf.Operation 'Rank_1' type=Const>,\n",
       " <tf.Operation 'range_1/start' type=Const>,\n",
       " <tf.Operation 'range_1/delta' type=Const>,\n",
       " <tf.Operation 'range_1' type=Range>,\n",
       " <tf.Operation 'Mean_1' type=Mean>,\n",
       " <tf.Operation 'b_1/initial_value' type=Const>,\n",
       " <tf.Operation 'b_1' type=VariableV2>,\n",
       " <tf.Operation 'b_1/Assign' type=Assign>,\n",
       " <tf.Operation 'b_1/read' type=Identity>,\n",
       " <tf.Operation 'init_3' type=NoOp>,\n",
       " <tf.Operation 'ArgMax_1/dimension' type=Const>,\n",
       " <tf.Operation 'ArgMax_1' type=ArgMax>]"
      ]
     },
     "execution_count": 3,
     "metadata": {},
     "output_type": "execute_result"
    }
   ],
   "source": [
    "from __future__ import absolute_import\n",
    "import tensorflow as tf\n",
    "\n",
    "b = tf.Variable([10,20,30,40,50,60],name='t')\n",
    "with tf.Session() as sess:\n",
    "    sess.run(tf.global_variables_initializer())\n",
    "    print(sess.run(tf.reduce_mean(b)))\n",
    "    \n",
    "a=[ [0.1, 0.2,  0.3  ],\n",
    "    [20,  2,       3   ],\n",
    "   [2,  555,       3   ]\n",
    "  ]\n",
    "b = tf.Variable(a,name='b')\n",
    "with tf.Session() as sess:\n",
    "    sess.run(tf.global_variables_initializer())\n",
    "    print(sess.run(tf.argmax(b,0)))\n",
    "\n",
    "graph = tf.get_default_graph()\n",
    "graph.get_operations()\n",
    "\n"
   ]
  },
  {
   "cell_type": "code",
   "execution_count": null,
   "metadata": {
    "collapsed": true
   },
   "outputs": [],
   "source": []
  },
  {
   "cell_type": "markdown",
   "metadata": {},
   "source": [
    "# Spilt data to trainng set and testing dataset"
   ]
  },
  {
   "cell_type": "code",
   "execution_count": null,
   "metadata": {},
   "outputs": [],
   "source": [
    "import pandas as pd\n",
    "import numpy as np\n",
    "from sklearn.preprocessing import OneHotEncoder,LabelEncoder\n",
    "from sklearn.model_selection  import train_test_split\n",
    "\n",
    "df=pd.read_csv('/home/bharat/visionrival/emigo/tensorflow/fer2013/fer2013.csv')\n",
    "df.columns=[\"classlabel\",\"image\",\"dataset\"]\n",
    "labelEncoder=LabelEncoder()\n",
    "ohe=OneHotEncoder(categorical_features=[0])\n",
    "images=df[\"image\"]\n",
    "images_encoded=labelEncoder.fit_transform(images)\n",
    "\n",
    "imagesOneHotEncoder=ohe.fit_transform(images_encoded.reshape(-1,1))\n",
    "X=imagesOneHotEncoder.toarray()\n",
    "#print imagesOneHotEncoder\n",
    "#print X\n",
    "#X,y=df.iloc[:,1:2].values,df.iloc[:,0].values\n",
    "y=df.iloc[:,0].values\n",
    "\n",
    "\n",
    "X_train,X_test,y_tarin,y_test=train_test_split(X,y,test_size=0.3,random_state=0)\n",
    "print X_train\n"
   ]
  },
  {
   "cell_type": "markdown",
   "metadata": {},
   "source": [
    "M"
   ]
  }
 ],
 "metadata": {
  "kernelspec": {
   "display_name": "Python3 (cogknitEnv)",
   "language": "python",
   "name": "cogknitenv"
  },
  "language_info": {
   "codemirror_mode": {
    "name": "ipython",
    "version": 3
   },
   "file_extension": ".py",
   "mimetype": "text/x-python",
   "name": "python",
   "nbconvert_exporter": "python",
   "pygments_lexer": "ipython3",
   "version": "3.5.2"
  }
 },
 "nbformat": 4,
 "nbformat_minor": 2
}
