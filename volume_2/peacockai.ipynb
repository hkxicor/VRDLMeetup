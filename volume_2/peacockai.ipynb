{
 "cells": [
  {
   "cell_type": "markdown",
   "metadata": {},
   "source": [
    "# product true and product product false classifier "
   ]
  },
  {
   "cell_type": "markdown",
   "metadata": {},
   "source": [
    "## Dataset preparation"
   ]
  },
  {
   "cell_type": "code",
   "execution_count": 1,
   "metadata": {},
   "outputs": [],
   "source": [
    "import cv2\n",
    "import os\n",
    "import glob\n",
    "from sklearn.utils import shuffle\n",
    "import numpy as np\n",
    "import tensorflow as tf\n",
    "\n",
    "\n",
    "def load_train(train_path, image_size, classes):\n",
    "    images = []\n",
    "    labels = []\n",
    "    img_names = []\n",
    "    cls = []\n",
    "\n",
    "    print('Going to read training images')\n",
    "    for fields in classes:   \n",
    "        index = classes.index(fields)\n",
    "        print('Now going to read {} files (Index: {})'.format(fields, index))\n",
    "        path = os.path.join(train_path, fields, '*g')\n",
    "        print(\"path: \",path)\n",
    "        files = glob.glob(path)\n",
    "        print(\"files: \",files[0],\"files_lenght: \",len(files))\n",
    "        for fl in files:\n",
    "            image = cv2.imread(fl)\n",
    "            image = cv2.resize(image, (image_size, image_size),0,0, cv2.INTER_LINEAR)\n",
    "            image = image.astype(np.float32)\n",
    "            image = np.multiply(image, 1.0 / 255.0)\n",
    "            images.append(image)\n",
    "            label = np.zeros(len(classes))\n",
    "            label[index] = 1.0\n",
    "            labels.append(label)\n",
    "            flbase = os.path.basename(fl)\n",
    "            img_names.append(flbase)\n",
    "            cls.append(fields)\n",
    "    images = np.array(images)\n",
    "    labels = np.array(labels)\n",
    "    img_names = np.array(img_names)\n",
    "    cls = np.array(cls)\n",
    "    #print(\"images.shape: \",images.shape)\n",
    "    return images, labels, img_names, cls\n",
    "\n",
    "\n",
    "class DataSet(object):\n",
    "\n",
    "  def __init__(self, images, labels, img_names, cls):\n",
    "    self._num_examples = images.shape[0]\n",
    "    print(\"self._num_examples: \",self._num_examples)\n",
    "    self._images = images\n",
    "    self._labels = labels\n",
    "    self._img_names = img_names\n",
    "    self._cls = cls\n",
    "    self._epochs_done = 0\n",
    "    self._index_in_epoch = 0\n",
    "\n",
    "  @property\n",
    "  def images(self):\n",
    "    return self._images\n",
    "\n",
    "  @property\n",
    "  def labels(self):\n",
    "    return self._labels\n",
    "\n",
    "  @property\n",
    "  def img_names(self):\n",
    "    return self._img_names\n",
    "\n",
    "  @property\n",
    "  def cls(self):\n",
    "    return self._cls\n",
    "\n",
    "  @property\n",
    "  def num_examples(self):\n",
    "    return self._num_examples\n",
    "\n",
    "  @property\n",
    "  def epochs_done(self):\n",
    "    return self._epochs_done\n",
    "\n",
    "  def next_batch(self, batch_size):\n",
    "    \"\"\"Return the next `batch_size` examples from this data set.\"\"\"\n",
    "    #print(\"batch_size: \",batch_size)\n",
    "    start = self._index_in_epoch\n",
    "    self._index_in_epoch += batch_size\n",
    "\n",
    "    if self._index_in_epoch > self._num_examples:\n",
    "      # After each epoch we update this\n",
    "      self._epochs_done += 1\n",
    "      start = 0\n",
    "      self._index_in_epoch = batch_size\n",
    "      assert batch_size <= self._num_examples\n",
    "    end = self._index_in_epoch\n",
    "    #print(\"self._images[start:end]: batch_size \",len(self._images[start:end]))\n",
    "    return self._images[start:end], self._labels[start:end], self._img_names[start:end], self._cls[start:end]\n",
    "\n",
    "\n",
    "def read_train_sets(train_path, image_size, classes, validation_size):\n",
    "  class DataSets(object):\n",
    "    pass\n",
    "  data_sets = DataSets()\n",
    "\n",
    "  images, labels, img_names, cls = load_train(train_path, image_size, classes)\n",
    "  images, labels, img_names, cls = shuffle(images, labels, img_names, cls)  \n",
    "\n",
    "  if isinstance(validation_size, float):\n",
    "    validation_size = int(validation_size * images.shape[0])\n",
    "\n",
    "  validation_images = images[:validation_size]\n",
    "  validation_labels = labels[:validation_size]\n",
    "  validation_img_names = img_names[:validation_size]\n",
    "  validation_cls = cls[:validation_size]\n",
    "\n",
    "  train_images = images[validation_size:]\n",
    "  train_labels = labels[validation_size:]\n",
    "  train_img_names = img_names[validation_size:]\n",
    "  train_cls = cls[validation_size:]\n",
    "\n",
    "  data_sets.train = DataSet(train_images, train_labels, train_img_names, train_cls)\n",
    "  data_sets.valid = DataSet(validation_images, validation_labels, validation_img_names, validation_cls)\n",
    "\n",
    "  return data_sets\n",
    "\n"
   ]
  },
  {
   "cell_type": "markdown",
   "metadata": {},
   "source": [
    "# Reading inputs"
   ]
  },
  {
   "cell_type": "code",
   "execution_count": 2,
   "metadata": {},
   "outputs": [
    {
     "name": "stdout",
     "output_type": "stream",
     "text": [
      "Going to read training images\n",
      "Now going to read dogs files (Index: 0)\n",
      "path:  training_data/dogs/*g\n",
      "files:  training_data/dogs/dog.191.jpg files_lenght:  500\n",
      "Now going to read cats files (Index: 1)\n",
      "path:  training_data/cats/*g\n",
      "files:  training_data/cats/cat.51.jpg files_lenght:  500\n",
      "self._num_examples:  800\n",
      "self._num_examples:  200\n",
      "Complete reading input data. Will Now print a snippet of it\n",
      "Number of files in Training-set:\t\t800\n",
      "Number of files in Validation-set:\t200\n"
     ]
    }
   ],
   "source": [
    "import tensorflow as tf\n",
    "import time\n",
    "from datetime import timedelta\n",
    "import math\n",
    "import random\n",
    "import numpy as np\n",
    "\n",
    "#Adding Seed so that random initialization is consistent\n",
    "from numpy.random import seed\n",
    "seed(1)\n",
    "from tensorflow import set_random_seed\n",
    "session = tf.Session()\n",
    "\n",
    "set_random_seed(2)\n",
    "\n",
    "#Prepare input data\n",
    "classes = ['dogs','cats']\n",
    "num_classes = len(classes)\n",
    "\n",
    "# 20% of the data will automatically be used for validation\n",
    "validation_size = 0.2\n",
    "img_size = 128\n",
    "image_size=128\n",
    "num_channels = 3\n",
    "train_path='training_data'\n",
    " \n",
    "# batch size\n",
    "batch_size = 16\n",
    " \n",
    "data = read_train_sets(train_path, img_size, classes, validation_size=validation_size)\n",
    "print(\"Complete reading input data. Will Now print a snippet of it\")\n",
    "print(\"Number of files in Training-set:\\t\\t{}\".format(len(data.train.labels)))\n",
    "print(\"Number of files in Validation-set:\\t{}\".format(len(data.valid.labels)))"
   ]
  },
  {
   "cell_type": "code",
   "execution_count": 3,
   "metadata": {},
   "outputs": [],
   "source": [
    "\n",
    "def create_weights(shape):\n",
    "    return tf.Variable(tf.truncated_normal(shape, stddev=0.05))\n",
    "\n",
    "def create_biases(size):\n",
    "    return tf.Variable(tf.constant(0.05, shape=[size]))\n",
    "\n",
    "\n",
    "##Network graph params\n",
    "filter_size_conv1 = 3 \n",
    "num_filters_conv1 = 32\n",
    "\n",
    "filter_size_conv2 = 3\n",
    "num_filters_conv2 = 32\n",
    "\n",
    "filter_size_conv3 = 3\n",
    "num_filters_conv3 = 64\n",
    "    \n",
    "fc_layer_size = 128"
   ]
  },
  {
   "cell_type": "markdown",
   "metadata": {},
   "source": [
    "# Creating network layers:"
   ]
  },
  {
   "cell_type": "markdown",
   "metadata": {},
   "source": [
    "### i) Building convolution layer in TensorFlow:"
   ]
  },
  {
   "cell_type": "code",
   "execution_count": 4,
   "metadata": {},
   "outputs": [],
   "source": [
    "\n",
    "def create_convolutional_layer(input,\n",
    "               num_input_channels, \n",
    "               conv_filter_size,        \n",
    "               num_filters):  \n",
    "    \n",
    "    ## We shall define the weights that will be trained using create_weights function.\n",
    "    weights = create_weights(shape=[conv_filter_size, conv_filter_size, num_input_channels, num_filters])\n",
    "    ## We create biases using the create_biases function. These are also trained.\n",
    "    biases = create_biases(num_filters)\n",
    "\n",
    "    ## Creating the convolutional layer\n",
    "    layer = tf.nn.conv2d(input=input,\n",
    "                     filter=weights,\n",
    "                     strides=[1, 1, 1, 1],\n",
    "                     padding='SAME')\n",
    "\n",
    "    layer += biases\n",
    "\n",
    "    ## We shall be using max-pooling.  \n",
    "    layer = tf.nn.max_pool(value=layer,\n",
    "                            ksize=[1, 2, 2, 1],\n",
    "                            strides=[1, 2, 2, 1],\n",
    "                            padding='SAME')\n",
    "    ## Output of pooling is fed to Relu which is the activation function for us.\n",
    "    layer = tf.nn.relu(layer)\n",
    "\n",
    "    return layer"
   ]
  },
  {
   "cell_type": "markdown",
   "metadata": {},
   "source": [
    "### ii)Flattening layer:"
   ]
  },
  {
   "cell_type": "code",
   "execution_count": 5,
   "metadata": {},
   "outputs": [],
   "source": [
    "def create_flatten_layer(layer):\n",
    "    layer_shape = layer.get_shape()\n",
    "    num_features = layer_shape[1:4].num_elements()\n",
    "    layer = tf.reshape(layer, [-1, num_features])\n",
    " \n",
    "    return layer"
   ]
  },
  {
   "cell_type": "markdown",
   "metadata": {},
   "source": [
    "### iii) Fully conneted layer"
   ]
  },
  {
   "cell_type": "code",
   "execution_count": 6,
   "metadata": {},
   "outputs": [],
   "source": [
    "\n",
    "def create_fc_layer(input,          \n",
    "             num_inputs,    \n",
    "             num_outputs,\n",
    "             use_relu=True):\n",
    "    \n",
    "    #Let's define trainable weights and biases.\n",
    "    weights = create_weights(shape=[num_inputs, num_outputs])\n",
    "    biases = create_biases(num_outputs)\n",
    "\n",
    "    layer = tf.matmul(input, weights) + biases\n",
    "    if use_relu:\n",
    "        layer = tf.nn.relu(layer)\n",
    "\n",
    "    return layer"
   ]
  },
  {
   "cell_type": "markdown",
   "metadata": {},
   "source": [
    "### iv) Placeholders and input:"
   ]
  },
  {
   "cell_type": "code",
   "execution_count": 7,
   "metadata": {},
   "outputs": [],
   "source": [
    "\n",
    "x = tf.placeholder(tf.float32, shape=[None, img_size,img_size,num_channels], name='x')\n",
    "\n",
    "y_true = tf.placeholder(tf.float32, shape=[None, num_classes], name='y_true')\n",
    "y_true_cls = tf.argmax(y_true, dimension=1)"
   ]
  },
  {
   "cell_type": "markdown",
   "metadata": {},
   "source": [
    "### v) network design:"
   ]
  },
  {
   "cell_type": "code",
   "execution_count": 8,
   "metadata": {},
   "outputs": [],
   "source": [
    "\n",
    "layer_conv1 = create_convolutional_layer(input=x,\n",
    "               num_input_channels=num_channels,\n",
    "               conv_filter_size=filter_size_conv1,\n",
    "               num_filters=num_filters_conv1)\n",
    "\n",
    "layer_conv2 = create_convolutional_layer(input=layer_conv1,\n",
    "               num_input_channels=num_filters_conv1,\n",
    "               conv_filter_size=filter_size_conv2,\n",
    "               num_filters=num_filters_conv2)\n",
    "\n",
    "layer_conv3= create_convolutional_layer(input=layer_conv2,\n",
    "               num_input_channels=num_filters_conv2,\n",
    "               conv_filter_size=filter_size_conv3,\n",
    "               num_filters=num_filters_conv3)\n",
    "          \n",
    "layer_flat = create_flatten_layer(layer_conv3)\n",
    "\n",
    "layer_fc1 = create_fc_layer(input=layer_flat,\n",
    "                     num_inputs=layer_flat.get_shape()[1:4].num_elements(),\n",
    "                     num_outputs=fc_layer_size,\n",
    "                     use_relu=True)\n",
    "\n",
    "layer_fc2 = create_fc_layer(input=layer_fc1,\n",
    "                     num_inputs=fc_layer_size,\n",
    "                     num_outputs=num_classes,\n",
    "                     use_relu=False)"
   ]
  },
  {
   "cell_type": "markdown",
   "metadata": {},
   "source": [
    "### vi) Predictions:"
   ]
  },
  {
   "cell_type": "code",
   "execution_count": 9,
   "metadata": {},
   "outputs": [],
   "source": [
    "\n",
    "cross_entropy = tf.nn.softmax_cross_entropy_with_logits(logits=layer_fc2,\n",
    "                                                    labels=y_true)\n",
    "cost = tf.reduce_mean(cross_entropy)"
   ]
  },
  {
   "cell_type": "code",
   "execution_count": null,
   "metadata": {},
   "outputs": [],
   "source": []
  },
  {
   "cell_type": "code",
   "execution_count": 10,
   "metadata": {},
   "outputs": [],
   "source": [
    "y_pred = tf.nn.softmax(layer_fc2,name='y_pred')\n",
    "\n",
    "y_pred_cls = tf.argmax(y_pred, dimension=1)\n",
    "\n",
    "session.run(tf.global_variables_initializer())\n",
    "cross_entropy = tf.nn.softmax_cross_entropy_with_logits(logits=layer_fc2,\n",
    "                                                    labels=y_true)\n",
    "cost = tf.reduce_mean(cross_entropy)\n",
    "optimizer = tf.train.AdamOptimizer(learning_rate=1e-4).minimize(cost)\n",
    "correct_prediction = tf.equal(y_pred_cls, y_true_cls)\n",
    "accuracy = tf.reduce_mean(tf.cast(correct_prediction, tf.float32))\n",
    "\n",
    "\n",
    "session.run(tf.global_variables_initializer())\n",
    "saver = tf.train.Saver()\n"
   ]
  },
  {
   "cell_type": "markdown",
   "metadata": {},
   "source": [
    "### Show progress"
   ]
  },
  {
   "cell_type": "code",
   "execution_count": 11,
   "metadata": {},
   "outputs": [],
   "source": [
    "def show_progress(epoch, feed_dict_train, feed_dict_validate, val_loss):\n",
    "    acc = session.run(accuracy, feed_dict=feed_dict_train)\n",
    "    val_acc = session.run(accuracy, feed_dict=feed_dict_validate)\n",
    "    msg = \"Training Epoch {0} --- Training Accuracy: {1:>6.1%}, Validation Accuracy: {2:>6.1%},  Validation Loss: {3:.3f}\"\n",
    "    print(msg.format(epoch + 1, acc, val_acc, val_loss))"
   ]
  },
  {
   "cell_type": "markdown",
   "metadata": {},
   "source": [
    "### VII) Optimization:"
   ]
  },
  {
   "cell_type": "code",
   "execution_count": 12,
   "metadata": {},
   "outputs": [],
   "source": [
    "\n",
    "def train(num_iteration):\n",
    "    global total_iterations\n",
    "    \n",
    "    for i in range(total_iterations,\n",
    "                   total_iterations + num_iteration):\n",
    "\n",
    "        x_batch, y_true_batch, _, cls_batch = data.train.next_batch(batch_size)\n",
    "        #print(\"batch: \",batch_size)\n",
    "        x_valid_batch, y_valid_batch, _, valid_cls_batch = data.valid.next_batch(batch_size)\n",
    "\n",
    "        \n",
    "        feed_dict_tr = {x: x_batch,\n",
    "                           y_true: y_true_batch}\n",
    "        feed_dict_val = {x: x_valid_batch,\n",
    "                              y_true: y_valid_batch}\n",
    "\n",
    "        session.run(optimizer, feed_dict=feed_dict_tr)\n",
    "\n",
    "        if i % int(data.train.num_examples/batch_size) == 0: \n",
    "            val_loss = session.run(cost, feed_dict=feed_dict_val)\n",
    "            epoch = int(i / int(data.train.num_examples/batch_size))    \n",
    "            show_progress(epoch, feed_dict_tr, feed_dict_val, val_loss)\n",
    "            saver.save(session, 'dogs-cats-model') \n",
    "\n",
    "    total_iterations += num_iteration"
   ]
  },
  {
   "cell_type": "markdown",
   "metadata": {},
   "source": [
    "# Prediction:"
   ]
  },
  {
   "cell_type": "code",
   "execution_count": 13,
   "metadata": {},
   "outputs": [],
   "source": [
    "\n",
    "def prediction(filename):\n",
    "    images = []\n",
    "    image = cv2.imread(filename)\n",
    "    # Resizing the image to our desired size and\n",
    "    # preprocessing will be done exactly as done during training\n",
    "    image = cv2.resize(image, (image_size, image_size), cv2.INTER_LINEAR)\n",
    "    images.append(image)\n",
    "    images = np.array(images, dtype=np.uint8)\n",
    "    images = images.astype('float32')\n",
    "    images = np.multiply(images, 1.0/255.0) \n",
    "    #The input to the network is of shape [None image_size image_size num_channels]. Hence we reshape.\n",
    "    x_batch = images.reshape(1, image_size,image_size,num_channels)\n",
    "\n",
    "\n",
    "    graph = tf.get_default_graph()\n",
    "\n",
    "    y_pred = graph.get_tensor_by_name(\"y_pred:0\")\n",
    "\n",
    "    ## Let's feed the images to the input placeholders\n",
    "    x= graph.get_tensor_by_name(\"x:0\") \n",
    "    y_true = graph.get_tensor_by_name(\"y_true:0\") \n",
    "    y_test_images = np.zeros((1, 2)) \n",
    "\n",
    "    feed_dict_testing = {x: x_batch, y_true: y_test_images}\n",
    "    result=session.run(y_pred, feed_dict=feed_dict_testing)\n",
    "    if(float(result[0][1] > 0.5)):\n",
    "        print(\"Object is Dog\")\n",
    "    else:\n",
    "        print(\"Object is Cat\")"
   ]
  },
  {
   "cell_type": "markdown",
   "metadata": {},
   "source": [
    "# Start training"
   ]
  },
  {
   "cell_type": "code",
   "execution_count": 14,
   "metadata": {},
   "outputs": [
    {
     "name": "stdout",
     "output_type": "stream",
     "text": [
      "Training Epoch 1 --- Training Accuracy:  50.0%, Validation Accuracy:  37.5%,  Validation Loss: 0.703\n",
      "Training Epoch 2 --- Training Accuracy:  50.0%, Validation Accuracy:  43.8%,  Validation Loss: 0.694\n",
      "Training Epoch 3 --- Training Accuracy:  50.0%, Validation Accuracy:  62.5%,  Validation Loss: 0.684\n",
      "Training Epoch 4 --- Training Accuracy:  56.2%, Validation Accuracy:  56.2%,  Validation Loss: 0.675\n",
      "Training Epoch 5 --- Training Accuracy:  56.2%, Validation Accuracy:  43.8%,  Validation Loss: 0.728\n",
      "Training Epoch 6 --- Training Accuracy:  56.2%, Validation Accuracy:  62.5%,  Validation Loss: 0.654\n",
      "Training Epoch 7 --- Training Accuracy:  56.2%, Validation Accuracy:  62.5%,  Validation Loss: 0.650\n",
      "Training Epoch 8 --- Training Accuracy:  56.2%, Validation Accuracy:  75.0%,  Validation Loss: 0.628\n",
      "Training Epoch 9 --- Training Accuracy:  56.2%, Validation Accuracy:  50.0%,  Validation Loss: 0.694\n",
      "Training Epoch 10 --- Training Accuracy:  56.2%, Validation Accuracy:  50.0%,  Validation Loss: 0.643\n",
      "Training Epoch 11 --- Training Accuracy:  62.5%, Validation Accuracy:  43.8%,  Validation Loss: 0.792\n",
      "Training Epoch 12 --- Training Accuracy:  68.8%, Validation Accuracy:  43.8%,  Validation Loss: 0.681\n",
      "Training Epoch 13 --- Training Accuracy:  68.8%, Validation Accuracy:  62.5%,  Validation Loss: 0.693\n",
      "Training Epoch 14 --- Training Accuracy:  68.8%, Validation Accuracy:  81.2%,  Validation Loss: 0.400\n",
      "Training Epoch 15 --- Training Accuracy:  68.8%, Validation Accuracy:  50.0%,  Validation Loss: 0.781\n",
      "Training Epoch 16 --- Training Accuracy:  68.8%, Validation Accuracy:  68.8%,  Validation Loss: 0.636\n",
      "Training Epoch 17 --- Training Accuracy:  68.8%, Validation Accuracy:  56.2%,  Validation Loss: 0.786\n",
      "Training Epoch 18 --- Training Accuracy:  75.0%, Validation Accuracy:  50.0%,  Validation Loss: 0.761\n",
      "Training Epoch 19 --- Training Accuracy:  75.0%, Validation Accuracy:  56.2%,  Validation Loss: 0.738\n",
      "Training Epoch 20 --- Training Accuracy:  75.0%, Validation Accuracy:  87.5%,  Validation Loss: 0.290\n",
      "Training Epoch 21 --- Training Accuracy:  75.0%, Validation Accuracy:  56.2%,  Validation Loss: 0.733\n",
      "Training Epoch 22 --- Training Accuracy:  81.2%, Validation Accuracy:  68.8%,  Validation Loss: 0.645\n",
      "Training Epoch 23 --- Training Accuracy:  81.2%, Validation Accuracy:  50.0%,  Validation Loss: 0.836\n",
      "Training Epoch 24 --- Training Accuracy:  81.2%, Validation Accuracy:  50.0%,  Validation Loss: 0.835\n",
      "Training Epoch 25 --- Training Accuracy:  81.2%, Validation Accuracy:  62.5%,  Validation Loss: 0.804\n",
      "Training Epoch 26 --- Training Accuracy:  81.2%, Validation Accuracy:  87.5%,  Validation Loss: 0.247\n",
      "Training Epoch 27 --- Training Accuracy:  81.2%, Validation Accuracy:  68.8%,  Validation Loss: 0.792\n",
      "Training Epoch 28 --- Training Accuracy:  87.5%, Validation Accuracy:  56.2%,  Validation Loss: 0.685\n",
      "Training Epoch 29 --- Training Accuracy:  87.5%, Validation Accuracy:  56.2%,  Validation Loss: 0.925\n",
      "Training Epoch 30 --- Training Accuracy:  87.5%, Validation Accuracy:  50.0%,  Validation Loss: 0.927\n",
      "Training Epoch 31 --- Training Accuracy:  87.5%, Validation Accuracy:  62.5%,  Validation Loss: 0.904\n",
      "Training Epoch 32 --- Training Accuracy: 100.0%, Validation Accuracy:  81.2%,  Validation Loss: 0.227\n",
      "Training Epoch 33 --- Training Accuracy: 100.0%, Validation Accuracy:  62.5%,  Validation Loss: 0.776\n",
      "Training Epoch 34 --- Training Accuracy: 100.0%, Validation Accuracy:  62.5%,  Validation Loss: 0.703\n",
      "Training Epoch 35 --- Training Accuracy: 100.0%, Validation Accuracy:  56.2%,  Validation Loss: 0.797\n",
      "Training Epoch 36 --- Training Accuracy:  87.5%, Validation Accuracy:  62.5%,  Validation Loss: 1.402\n",
      "Training Epoch 37 --- Training Accuracy: 100.0%, Validation Accuracy:  62.5%,  Validation Loss: 1.192\n",
      "Training Epoch 38 --- Training Accuracy: 100.0%, Validation Accuracy:  93.8%,  Validation Loss: 0.161\n",
      "Training Epoch 39 --- Training Accuracy: 100.0%, Validation Accuracy:  56.2%,  Validation Loss: 0.842\n",
      "Training Epoch 40 --- Training Accuracy: 100.0%, Validation Accuracy:  62.5%,  Validation Loss: 0.882\n",
      "Training Epoch 41 --- Training Accuracy: 100.0%, Validation Accuracy:  56.2%,  Validation Loss: 0.868\n",
      "Training Epoch 42 --- Training Accuracy: 100.0%, Validation Accuracy:  56.2%,  Validation Loss: 1.250\n",
      "Training Epoch 43 --- Training Accuracy: 100.0%, Validation Accuracy:  75.0%,  Validation Loss: 1.242\n",
      "Training Epoch 44 --- Training Accuracy: 100.0%, Validation Accuracy:  87.5%,  Validation Loss: 0.177\n",
      "Training Epoch 45 --- Training Accuracy: 100.0%, Validation Accuracy:  62.5%,  Validation Loss: 1.102\n",
      "Training Epoch 46 --- Training Accuracy: 100.0%, Validation Accuracy:  62.5%,  Validation Loss: 0.936\n",
      "Training Epoch 47 --- Training Accuracy: 100.0%, Validation Accuracy:  56.2%,  Validation Loss: 0.992\n",
      "Training Epoch 48 --- Training Accuracy: 100.0%, Validation Accuracy:  56.2%,  Validation Loss: 1.521\n",
      "Training Epoch 49 --- Training Accuracy: 100.0%, Validation Accuracy:  68.8%,  Validation Loss: 1.470\n",
      "Training Epoch 50 --- Training Accuracy: 100.0%, Validation Accuracy:  87.5%,  Validation Loss: 0.172\n",
      "Training Epoch 51 --- Training Accuracy: 100.0%, Validation Accuracy:  62.5%,  Validation Loss: 1.381\n",
      "Training Epoch 52 --- Training Accuracy: 100.0%, Validation Accuracy:  62.5%,  Validation Loss: 1.158\n",
      "Training Epoch 53 --- Training Accuracy: 100.0%, Validation Accuracy:  56.2%,  Validation Loss: 1.108\n",
      "Training Epoch 54 --- Training Accuracy: 100.0%, Validation Accuracy:  56.2%,  Validation Loss: 1.769\n",
      "Training Epoch 55 --- Training Accuracy: 100.0%, Validation Accuracy:  68.8%,  Validation Loss: 1.670\n",
      "Training Epoch 56 --- Training Accuracy: 100.0%, Validation Accuracy:  87.5%,  Validation Loss: 0.186\n",
      "Training Epoch 57 --- Training Accuracy: 100.0%, Validation Accuracy:  62.5%,  Validation Loss: 1.573\n",
      "Training Epoch 58 --- Training Accuracy: 100.0%, Validation Accuracy:  56.2%,  Validation Loss: 1.271\n",
      "Training Epoch 59 --- Training Accuracy: 100.0%, Validation Accuracy:  56.2%,  Validation Loss: 1.205\n",
      "Training Epoch 60 --- Training Accuracy: 100.0%, Validation Accuracy:  56.2%,  Validation Loss: 1.999\n"
     ]
    }
   ],
   "source": [
    "total_iterations = 0\n",
    "\n",
    "train(3000)\n",
    "\n"
   ]
  },
  {
   "cell_type": "markdown",
   "metadata": {},
   "source": [
    "# prediction "
   ]
  },
  {
   "cell_type": "code",
   "execution_count": 15,
   "metadata": {},
   "outputs": [
    {
     "name": "stdout",
     "output_type": "stream",
     "text": [
      "Object is Dog\n"
     ]
    }
   ],
   "source": [
    "filename=\"/home/cogknit/project/VRDLMeetup/research/models/testing_data/dogs/dog.1001.jpg\"\n",
    "\n",
    "prediction(filename)\n"
   ]
  },
  {
   "cell_type": "code",
   "execution_count": null,
   "metadata": {},
   "outputs": [],
   "source": []
  }
 ],
 "metadata": {
  "kernelspec": {
   "display_name": "Python3 (cogknitEnv)",
   "language": "python",
   "name": "cogknitenv"
  },
  "language_info": {
   "codemirror_mode": {
    "name": "ipython",
    "version": 3
   },
   "file_extension": ".py",
   "mimetype": "text/x-python",
   "name": "python",
   "nbconvert_exporter": "python",
   "pygments_lexer": "ipython3",
   "version": "3.5.2"
  }
 },
 "nbformat": 4,
 "nbformat_minor": 2
}
